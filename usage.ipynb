{
 "cells": [
  {
   "cell_type": "code",
   "execution_count": 1,
   "metadata": {},
   "outputs": [],
   "source": [
    "from PeakPyAI import PeakDetector, generate_random_data, plot_data"
   ]
  },
  {
   "cell_type": "code",
   "execution_count": null,
   "metadata": {},
   "outputs": [],
   "source": [
    "# Training\n",
    "detector = PeakDetector()\n",
    "detector.generate_random_training_data()\n",
    "model = detector.train_peak_detection_model()\n"
   ]
  },
  {
   "cell_type": "code",
   "execution_count": 3,
   "metadata": {},
   "outputs": [],
   "source": [
    "# Prediction\n",
    "example_signal, example_peaks = generate_random_data()\n",
    "detector.predict_peak_probabilities(example_signal)\n",
    "detector.calculate_peaks_by_probability_threshold()"
   ]
  },
  {
   "cell_type": "code",
   "execution_count": null,
   "metadata": {},
   "outputs": [],
   "source": [
    "#plotting\n",
    "plot_data(\n",
    "    signal=example_signal,\n",
    "    actual_peaks=example_peaks,\n",
    "    detected_peaks=detector.detected_peaks,\n",
    "    probabilities=detector.peak_probabilities\n",
    ")"
   ]
  }
 ],
 "metadata": {
  "kernelspec": {
   "display_name": "base",
   "language": "python",
   "name": "python3"
  },
  "language_info": {
   "codemirror_mode": {
    "name": "ipython",
    "version": 3
   },
   "file_extension": ".py",
   "mimetype": "text/x-python",
   "name": "python",
   "nbconvert_exporter": "python",
   "pygments_lexer": "ipython3",
   "version": "3.11.7"
  }
 },
 "nbformat": 4,
 "nbformat_minor": 2
}
